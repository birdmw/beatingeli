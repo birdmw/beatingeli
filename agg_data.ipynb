{
 "cells": [
  {
   "cell_type": "code",
   "execution_count": 80,
   "metadata": {},
   "outputs": [],
   "source": [
    "import os, sys\n",
    "import pandas as pd\n",
    "\n",
    "def aggregate(data_folder = 'data' + os.sep):\n",
    "    only_files = [data_folder + f for f in os.listdir(data_folder) if os.path.isfile(os.path.join(data_folder, f))]\n",
    "    df_list = []\n",
    "    for file_path in only_files:\n",
    "        with open(file_path, 'rb') as f:\n",
    "            df = pd.read_csv(f)\n",
    "            df_list.append(df)\n",
    "    df = pd.concat(df_list)\n",
    "    df = df.drop_duplicates()\n",
    "    df.to_csv(data_folder + 'aggregation.csv', index=False)\n",
    "    only_files = [of for of in only_files if 'agg' not in of.lower()]\n",
    "    for f in only_files:\n",
    "        os.remove(f)\n",
    "    \n",
    "if __name__ == '__main__':\n",
    "    aggregate()"
   ]
  },
  {
   "cell_type": "code",
   "execution_count": null,
   "metadata": {},
   "outputs": [],
   "source": []
  }
 ],
 "metadata": {
  "kernelspec": {
   "display_name": "Python 2",
   "language": "python",
   "name": "python2"
  },
  "language_info": {
   "codemirror_mode": {
    "name": "ipython",
    "version": 2
   },
   "file_extension": ".py",
   "mimetype": "text/x-python",
   "name": "python",
   "nbconvert_exporter": "python",
   "pygments_lexer": "ipython2",
   "version": "2.7.12"
  }
 },
 "nbformat": 4,
 "nbformat_minor": 2
}
