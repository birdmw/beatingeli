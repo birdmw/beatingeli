{
 "cells": [
  {
   "cell_type": "code",
   "execution_count": null,
   "metadata": {
    "collapsed": true
   },
   "outputs": [],
   "source": [
    "from libs.Board import Board"
   ]
  },
  {
   "cell_type": "code",
   "execution_count": 5,
   "metadata": {},
   "outputs": [],
   "source": [
    "b = Board()"
   ]
  },
  {
   "cell_type": "code",
   "execution_count": 6,
   "metadata": {},
   "outputs": [
    {
     "name": "stdout",
     "output_type": "stream",
     "text": [
      "======BOARD========\n",
      "('Left Mancala:', 0)\n",
      "['4', '4', '4', '4', '4', '4']\n",
      "['4', '4', '4', '4', '4', '4']\n",
      "('Right Mancala:', 0)\n",
      "===================\n"
     ]
    }
   ],
   "source": [
    "b.print_()"
   ]
  },
  {
   "cell_type": "code",
   "execution_count": 28,
   "metadata": {},
   "outputs": [
    {
     "name": "stdout",
     "output_type": "stream",
     "text": [
      "======BOARD========\n",
      "('Left Mancala:', 5)\n",
      "['0', '8', '11', '3', '0', '0']\n",
      "['2', '8', '1', '0', '1', '1']\n",
      "('Right Mancala:', 8)\n",
      "===================\n",
      "player_2's turn\n"
     ]
    }
   ],
   "source": [
    "b.play(4)\n",
    "b.print_()\n",
    "print b.pos['turn']+\"'s turn\""
   ]
  },
  {
   "cell_type": "code",
   "execution_count": null,
   "metadata": {
    "collapsed": true
   },
   "outputs": [],
   "source": []
  }
 ],
 "metadata": {
  "kernelspec": {
   "display_name": "Python 2",
   "language": "python",
   "name": "python2"
  },
  "language_info": {
   "codemirror_mode": {
    "name": "ipython",
    "version": 2
   },
   "file_extension": ".py",
   "mimetype": "text/x-python",
   "name": "python",
   "nbconvert_exporter": "python",
   "pygments_lexer": "ipython2",
   "version": "2.7.13"
  }
 },
 "nbformat": 4,
 "nbformat_minor": 2
}
